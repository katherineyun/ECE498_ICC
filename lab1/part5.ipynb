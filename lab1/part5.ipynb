{
 "cells": [
  {
   "cell_type": "code",
   "execution_count": 13,
   "metadata": {},
   "outputs": [
    {
     "name": "stdout",
     "output_type": "stream",
     "text": [
      "865\n"
     ]
    }
   ],
   "source": [
    "import tensorflow as tf\n",
    "from tensorflow import keras\n",
    "from tensorflow.python.keras.models import Sequential\n",
    "from tensorflow.python.keras.layers import Dense, Conv2D, MaxPooling2D, Flatten\n",
    "from tensorflow.python.keras.utils import to_categorical\n",
    "from tensorflow.python.keras.optimizers import Adadelta\n",
    "import numpy as np\n",
    "import requests\n",
    "import gzip\n",
    "\n",
    "\n",
    "\n",
    "def get_testset():\n",
    "    url = 'https://courses.engr.illinois.edu/ece498icc/sp2020/lab1_request_dataset.php'\n",
    "    values = {'request': 'testdata', 'netid':'myun7'}\n",
    "    r = requests.post(url, data=values, allow_redirects=True)\n",
    "    filename = r.url.split(\"/\")[-1]\n",
    "    testset_id = filename.split(\".\")[0].split(\"_\")[-1]\n",
    "    with open(filename, 'wb') as f: \n",
    "        f.write(r.content)\n",
    "    return load_dataset(filename), testset_id\n",
    "\n",
    "def load_dataset(path):\n",
    "    num_img = 1000\n",
    "    with gzip.open(path, 'rb') as infile:\n",
    "        data = np.frombuffer(infile.read(), dtype=np.uint8).reshape(num_img, 784)\n",
    "    return data\n",
    "\n",
    "def create_model():\n",
    "    model = Sequential()\n",
    "    #add model layers\n",
    "    model.add(Conv2D(3, kernel_size=5, strides = 1, activation='relu', input_shape=(28,28,1)))\n",
    "    model.add(MaxPooling2D(strides=(2, 2)))\n",
    "    model.add(Conv2D(3, kernel_size=3, strides = 1, padding='same', activation='relu'))\n",
    "    model.add(MaxPooling2D(strides=(2, 2)))\n",
    "    model.add(Flatten())\n",
    "    model.add(Dense(100, activation='relu'))\n",
    "    model.add(Dense(50, activation='relu'))\n",
    "    model.add(Dense(10, activation='softmax'))\n",
    "    model.compile(optimizer=Adadelta(),loss='categorical_crossentropy', metrics=['accuracy'])\n",
    "    return model\n",
    "\n",
    "# Create a basic model instance\n",
    "model = create_model()\n",
    "checkpoint_path = \"training_1/cp.ckpt\"\n",
    "\n",
    "# Loads the weights \n",
    "model.load_weights(checkpoint_path)\n",
    "\n",
    "\n",
    "data, testset_id  = get_testset()\n",
    "data = data.reshape(data.shape[0], 28, 28, 1)\n",
    "testset_id\n",
    "\n",
    "\n",
    "predictions = model.predict(data)\n",
    "prediction = ''\n",
    "for i in predictions:\n",
    "    prediction += str(np.argmax(i))\n",
    "url = 'https://courses.engr.illinois.edu/ece498icc/sp2020/lab1_request_dataset.php'\n",
    "values = {'request': 'verify', 'netid':'myun7', 'testset_id':testset_id,'prediction':prediction}\n",
    "r = requests.post(url, data=values, allow_redirects=True)\n",
    "print(r.text)\n"
   ]
  },
  {
   "cell_type": "code",
   "execution_count": 14,
   "metadata": {},
   "outputs": [
    {
     "data": {
      "text/plain": [
       "'5832ba5e'"
      ]
     },
     "execution_count": 14,
     "metadata": {},
     "output_type": "execute_result"
    }
   ],
   "source": [
    "testset_id"
   ]
  },
  {
   "cell_type": "code",
   "execution_count": 18,
   "metadata": {},
   "outputs": [
    {
     "name": "stdout",
     "output_type": "stream",
     "text": [
      "1.14.0\n"
     ]
    }
   ],
   "source": [
    "print(tf.__version__)"
   ]
  },
  {
   "cell_type": "code",
   "execution_count": null,
   "metadata": {},
   "outputs": [],
   "source": []
  }
 ],
 "metadata": {
  "kernelspec": {
   "display_name": "Python 3",
   "language": "python",
   "name": "python3"
  },
  "language_info": {
   "codemirror_mode": {
    "name": "ipython",
    "version": 3
   },
   "file_extension": ".py",
   "mimetype": "text/x-python",
   "name": "python",
   "nbconvert_exporter": "python",
   "pygments_lexer": "ipython3",
   "version": "3.7.4"
  }
 },
 "nbformat": 4,
 "nbformat_minor": 2
}
