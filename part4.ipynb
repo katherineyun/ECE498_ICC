{
 "cells": [
  {
   "cell_type": "markdown",
   "metadata": {},
   "source": [
    "# Model without Keras"
   ]
  },
  {
   "cell_type": "code",
   "execution_count": 1,
   "metadata": {},
   "outputs": [],
   "source": [
    "import tensorflow as tf\n",
    "from tensorflow import keras\n",
    "from tensorflow.python.keras.utils import to_categorical\n",
    "fashion_mnist = keras.datasets.fashion_mnist\n",
    "(train_X, train_y), (test_X, test_y) = fashion_mnist.load_data()"
   ]
  },
  {
   "cell_type": "code",
   "execution_count": 2,
   "metadata": {},
   "outputs": [],
   "source": [
    "train_X, test_X = train_X.reshape(train_X.shape[0], 28, 28, 1), test_X.reshape(test_X.shape[0], 28, 28, 1)\n",
    "train_y, test_y = to_categorical(train_y), to_categorical(test_y)\n",
    "train_X = train_X/ 255\n",
    "test_X = test_X/ 255"
   ]
  },
  {
   "cell_type": "code",
   "execution_count": 3,
   "metadata": {},
   "outputs": [],
   "source": [
    "# MNIST data input (img shape: 28*28)\n",
    "n_input = 28\n",
    "\n",
    "# MNIST total classes (0-9 digits)\n",
    "n_classes = 10\n",
    "\n",
    "training_iters = 20\n",
    "learning_rate = 0.01 \n",
    "batch_size = 500"
   ]
  },
  {
   "cell_type": "code",
   "execution_count": 4,
   "metadata": {},
   "outputs": [],
   "source": [
    "x = tf.compat.v1.placeholder(\"float\", [None, n_input,n_input,1])\n",
    "y = tf.compat.v1.placeholder(\"float\", [None, n_classes])"
   ]
  },
  {
   "cell_type": "code",
   "execution_count": 5,
   "metadata": {},
   "outputs": [],
   "source": [
    "def conv2d(x, W, b, strides, pad):\n",
    "    # Conv2D wrapper, with bias and relu activation\n",
    "    x = tf.nn.conv2d(x, W, strides=[1, strides, strides, 1], padding=pad)\n",
    "    x = tf.nn.bias_add(x, b)\n",
    "    return tf.nn.relu(x) \n",
    "\n",
    "def maxpool2d(x, k=2):\n",
    "    return tf.nn.max_pool2d(x, ksize=[1, k, k, 1], strides=[1, k, k, 1],padding='SAME')"
   ]
  },
  {
   "cell_type": "code",
   "execution_count": 6,
   "metadata": {},
   "outputs": [],
   "source": [
    "def conv_net(x, weights, biases):  \n",
    "\n",
    "    # here we call the conv2d function we had defined above and pass the input image x, weights wc1 and bias bc1.\n",
    "    conv1 = conv2d(x, weights['wc1'], biases['bc1'], 1,'VALID')\n",
    "    # Max Pooling (down-sampling), this chooses the max value from a 2*2 matrix window and outputs a 14*14 matrix.\n",
    "    conv1 = maxpool2d(conv1, k=2)\n",
    "\n",
    "    # Convolution Layer\n",
    "    # here we call the conv2d function we had defined above and pass the input image x, weights wc2 and bias bc2.\n",
    "    conv2 = conv2d(conv1, weights['wc2'], biases['bc2'],1, 'SAME')\n",
    "    # Max Pooling (down-sampling), this chooses the max value from a 2*2 matrix window and outputs a 7*7 matrix.\n",
    "    conv2 = maxpool2d(conv2, k=2)\n",
    "\n",
    "   \n",
    "    flatten = tf.reshape(conv2, [-1,3*6*6])\n",
    "\n",
    "    # Fully connected layer\n",
    "    # Reshape conv2 output to fit fully connected layer input\n",
    "    \n",
    "    fc1 = tf.add(tf.matmul(flatten, weights['wd1']), biases['bd1'])\n",
    "    fc1 = tf.nn.relu(fc1)\n",
    "    # Fully connected layer\n",
    "    fc2 = tf.add(tf.matmul(fc1, weights['wd2']), biases['bd2'])\n",
    "    fc2 = tf.nn.relu(fc2)\n",
    "    # Output, class prediction\n",
    "    # finally we multiply the fully connected layer with the weights and add a bias term. \n",
    "    out = tf.add(tf.matmul(fc2, weights['out']), biases['out'])\n",
    "    return out"
   ]
  },
  {
   "cell_type": "code",
   "execution_count": 7,
   "metadata": {},
   "outputs": [
    {
     "name": "stdout",
     "output_type": "stream",
     "text": [
      "WARNING:tensorflow:\n",
      "The TensorFlow contrib module will not be included in TensorFlow 2.0.\n",
      "For more information, please see:\n",
      "  * https://github.com/tensorflow/community/blob/master/rfcs/20180907-contrib-sunset.md\n",
      "  * https://github.com/tensorflow/addons\n",
      "  * https://github.com/tensorflow/io (for I/O related ops)\n",
      "If you depend on functionality not listed there, please file an issue.\n",
      "\n"
     ]
    }
   ],
   "source": [
    "weights = {\n",
    "    'wc1': tf.compat.v1.get_variable('W0', shape=(5,5,1,3), initializer=tf.contrib.layers.xavier_initializer()), \n",
    "    'wc2': tf.compat.v1.get_variable('W1', shape=(3,3,3,3), initializer=tf.contrib.layers.xavier_initializer()), \n",
    "\n",
    "    'wd1': tf.compat.v1.get_variable('W3', shape=(108,100), initializer=tf.contrib.layers.xavier_initializer()), \n",
    "    'wd2': tf.compat.v1.get_variable('W4', shape=(100,50), initializer=tf.contrib.layers.xavier_initializer()), \n",
    "    'out': tf.compat.v1.get_variable('W5', shape=(50,n_classes), initializer=tf.contrib.layers.xavier_initializer()), \n",
    "}\n",
    "biases = {\n",
    "    'bc1': tf.compat.v1.get_variable('B0', shape=(3), initializer=tf.contrib.layers.xavier_initializer()),\n",
    "    'bc2': tf.compat.v1.get_variable('B1', shape=(3), initializer=tf.contrib.layers.xavier_initializer()),\n",
    "\n",
    "    'bd1': tf.compat.v1.get_variable('B3', shape=(100), initializer=tf.contrib.layers.xavier_initializer()),\n",
    "    'bd2': tf.compat.v1.get_variable('B4', shape=(50), initializer=tf.contrib.layers.xavier_initializer()),\n",
    "    'out': tf.compat.v1.get_variable('B5', shape=(10), initializer=tf.contrib.layers.xavier_initializer()),\n",
    "}"
   ]
  },
  {
   "cell_type": "code",
   "execution_count": 8,
   "metadata": {},
   "outputs": [
    {
     "name": "stdout",
     "output_type": "stream",
     "text": [
      "WARNING:tensorflow:From <ipython-input-8-fed8f00181c9>:3: softmax_cross_entropy_with_logits (from tensorflow.python.ops.nn_ops) is deprecated and will be removed in a future version.\n",
      "Instructions for updating:\n",
      "\n",
      "Future major versions of TensorFlow will allow gradients to flow\n",
      "into the labels input on backprop by default.\n",
      "\n",
      "See `tf.nn.softmax_cross_entropy_with_logits_v2`.\n",
      "\n"
     ]
    }
   ],
   "source": [
    "pred = conv_net(x, weights, biases)\n",
    "\n",
    "cost = tf.reduce_mean(tf.nn.softmax_cross_entropy_with_logits(logits=pred, labels=y))\n",
    "\n",
    "optimizer = tf.compat.v1.train.AdamOptimizer(learning_rate=learning_rate).minimize(cost)\n",
    "\n",
    "#Here you check whether the index of the maximum value of the predicted image is equal to the actual labelled image. and both will be a column vector.\n",
    "correct_prediction = tf.equal(tf.argmax(pred, 1), tf.argmax(y, 1))\n",
    "\n",
    "#calculate accuracy across all the given images and average them out. \n",
    "accuracy = tf.reduce_mean(tf.cast(correct_prediction, tf.float32))\n",
    "# Initializing the variables\n",
    "init = tf.global_variables_initializer()"
   ]
  },
  {
   "cell_type": "code",
   "execution_count": 9,
   "metadata": {},
   "outputs": [
    {
     "name": "stdout",
     "output_type": "stream",
     "text": [
      "Iter 0, Loss= 0.434108, Training Accuracy= 0.82400\n",
      "Testing Accuracy: 0.80250\n",
      "Iter 1, Loss= 0.360577, Training Accuracy= 0.85600\n",
      "Testing Accuracy: 0.83570\n",
      "Iter 2, Loss= 0.342572, Training Accuracy= 0.87000\n",
      "Testing Accuracy: 0.84290\n",
      "Iter 3, Loss= 0.334483, Training Accuracy= 0.87200\n",
      "Testing Accuracy: 0.84660\n",
      "Iter 4, Loss= 0.324773, Training Accuracy= 0.87000\n",
      "Testing Accuracy: 0.84870\n",
      "Iter 5, Loss= 0.317488, Training Accuracy= 0.87800\n",
      "Testing Accuracy: 0.85530\n",
      "Iter 6, Loss= 0.315873, Training Accuracy= 0.88000\n",
      "Testing Accuracy: 0.85560\n",
      "Iter 7, Loss= 0.308116, Training Accuracy= 0.88200\n",
      "Testing Accuracy: 0.85950\n",
      "Iter 8, Loss= 0.323304, Training Accuracy= 0.86200\n",
      "Testing Accuracy: 0.85670\n",
      "Iter 9, Loss= 0.308618, Training Accuracy= 0.87000\n",
      "Testing Accuracy: 0.86240\n",
      "Iter 10, Loss= 0.307483, Training Accuracy= 0.87800\n",
      "Testing Accuracy: 0.86190\n",
      "Iter 11, Loss= 0.312047, Training Accuracy= 0.87800\n",
      "Testing Accuracy: 0.86180\n",
      "Iter 12, Loss= 0.295115, Training Accuracy= 0.88200\n",
      "Testing Accuracy: 0.86550\n",
      "Iter 13, Loss= 0.291004, Training Accuracy= 0.87600\n",
      "Testing Accuracy: 0.86800\n",
      "Iter 14, Loss= 0.280595, Training Accuracy= 0.88200\n",
      "Testing Accuracy: 0.86950\n",
      "Iter 15, Loss= 0.291436, Training Accuracy= 0.87600\n",
      "Testing Accuracy: 0.87040\n",
      "Iter 16, Loss= 0.279578, Training Accuracy= 0.88600\n",
      "Testing Accuracy: 0.87020\n",
      "Iter 17, Loss= 0.275578, Training Accuracy= 0.88800\n",
      "Testing Accuracy: 0.86810\n",
      "Iter 18, Loss= 0.268926, Training Accuracy= 0.89000\n",
      "Testing Accuracy: 0.86960\n",
      "Iter 19, Loss= 0.266283, Training Accuracy= 0.88600\n",
      "Testing Accuracy: 0.87230\n"
     ]
    }
   ],
   "source": [
    "with tf.Session() as sess:\n",
    "    sess.run(init) \n",
    "    train_loss = []\n",
    "    test_loss = []\n",
    "    train_accuracy = []\n",
    "    test_accuracy = []\n",
    "    summary_writer = tf.compat.v1.summary.FileWriter('./Output', sess.graph)\n",
    "    for i in range(training_iters):\n",
    "        for batch in range(len(train_X)//batch_size):\n",
    "            batch_x = train_X[batch*batch_size:min((batch+1)*batch_size,len(train_X))]\n",
    "            batch_y = train_y[batch*batch_size:min((batch+1)*batch_size,len(train_y))]    \n",
    "            # Run optimization op (backprop).\n",
    "                # Calculate batch loss and accuracy\n",
    "            opt = sess.run(optimizer, feed_dict={x: batch_x,\n",
    "                                                              y: batch_y})\n",
    "            loss, acc = sess.run([cost, accuracy], feed_dict={x: batch_x,\n",
    "                                                              y: batch_y})\n",
    "        print(\"Iter \" + str(i) + \", Loss= \" + \\\n",
    "                      \"{:.6f}\".format(loss) + \", Training Accuracy= \" + \\\n",
    "                      \"{:.5f}\".format(acc))\n",
    "\n",
    "        # Calculate accuracy for all 10000 mnist test images\n",
    "        test_acc,valid_loss = sess.run([accuracy,cost], feed_dict={x: test_X,y : test_y})\n",
    "        train_loss.append(loss)\n",
    "        test_loss.append(valid_loss)\n",
    "        train_accuracy.append(acc)\n",
    "        test_accuracy.append(test_acc)\n",
    "        print(\"Testing Accuracy:\",\"{:.5f}\".format(test_acc))\n",
    "    saver = tf.train.Saver()\n",
    "    saver.save(sess, 'my-test-model')\n",
    "    summary_writer.close()"
   ]
  },
  {
   "cell_type": "code",
   "execution_count": 13,
   "metadata": {},
   "outputs": [
    {
     "data": {
      "image/png": "[encoded data removed]",
      "text/plain": [
       "<Figure size 432x288 with 1 Axes>"
      ]
     },
     "metadata": {
      "needs_background": "light"
     },
     "output_type": "display_data"
    },
    {
     "data": {
      "image/png": "[encoded data removed]",
      "text/plain": [
       "<Figure size 432x288 with 1 Axes>"
      ]
     },
     "metadata": {
      "needs_background": "light"
     },
     "output_type": "display_data"
    }
   ],
   "source": [
    "import matplotlib.pyplot as plt\n",
    "plt.plot(train_loss)\n",
    "plt.plot(test_loss)\n",
    "plt.title('Model loss')\n",
    "plt.ylabel('Loss')\n",
    "plt.xticks(range(0,20))\n",
    "plt.xlabel('Epoch')\n",
    "plt.legend(['Train', 'Test'], loc='upper left')\n",
    "plt.show()\n",
    "plt.plot(train_accuracy)\n",
    "plt.plot(test_accuracy)\n",
    "plt.title('Model accuracy')\n",
    "plt.ylabel('Accuracy')\n",
    "plt.xticks(range(0,20))\n",
    "plt.xlabel('Epoch')\n",
    "plt.legend(['Train', 'Test'], loc='upper left')\n",
    "plt.show()"
   ]
  },
  {
   "cell_type": "markdown",
   "metadata": {},
   "source": [
    "# Model with Keras"
   ]
  },
  {
   "cell_type": "code",
   "execution_count": 11,
   "metadata": {},
   "outputs": [
    {
     "name": "stdout",
     "output_type": "stream",
     "text": [
      "WARNING:tensorflow:From C:\\Users\\kathe\\Anaconda3\\lib\\site-packages\\tensorflow\\python\\ops\\init_ops.py:1251: calling VarianceScaling.__init__ (from tensorflow.python.ops.init_ops) with dtype is deprecated and will be removed in a future version.\n",
      "Instructions for updating:\n",
      "Call initializer instance with the dtype argument instead of passing it to the constructor\n",
      "Model: \"sequential\"\n",
      "_________________________________________________________________\n",
      "Layer (type)                 Output Shape              Param #   \n",
      "=================================================================\n",
      "conv2d (Conv2D)              (None, 24, 24, 3)         78        \n",
      "_________________________________________________________________\n",
      "max_pooling2d (MaxPooling2D) (None, 12, 12, 3)         0         \n",
      "_________________________________________________________________\n",
      "conv2d_1 (Conv2D)            (None, 12, 12, 3)         84        \n",
      "_________________________________________________________________\n",
      "max_pooling2d_1 (MaxPooling2 (None, 6, 6, 3)           0         \n",
      "_________________________________________________________________\n",
      "flatten (Flatten)            (None, 108)               0         \n",
      "_________________________________________________________________\n",
      "dense (Dense)                (None, 100)               10900     \n",
      "_________________________________________________________________\n",
      "dense_1 (Dense)              (None, 50)                5050      \n",
      "_________________________________________________________________\n",
      "dense_2 (Dense)              (None, 10)                510       \n",
      "=================================================================\n",
      "Total params: 16,622\n",
      "Trainable params: 16,622\n",
      "Non-trainable params: 0\n",
      "_________________________________________________________________\n",
      "Train on 60000 samples, validate on 10000 samples\n",
      "Epoch 1/20\n",
      "59800/60000 [============================>.] - ETA: 0s - loss: 1.4116 - acc: 0.6901\n",
      "Epoch 00001: saving model to training_1/cp.ckpt\n",
      "WARNING:tensorflow:This model was compiled with a Keras optimizer (<tensorflow.python.keras.optimizers.Adadelta object at 0x00000225538F6948>) but is being saved in TensorFlow format with `save_weights`. The model's weights will be saved, but unlike with TensorFlow optimizers in the TensorFlow format the optimizer's state will not be saved.\n",
      "\n",
      "Consider using a TensorFlow optimizer from `tf.train`.\n",
      "60000/60000 [==============================] - 24s 400us/sample - loss: 1.4092 - acc: 0.6903 - val_loss: 0.7016 - val_acc: 0.7405\n",
      "Epoch 2/20\n",
      "59900/60000 [============================>.] - ETA: 0s - loss: 0.5851 - acc: 0.7826\n",
      "Epoch 00002: saving model to training_1/cp.ckpt\n",
      "WARNING:tensorflow:This model was compiled with a Keras optimizer (<tensorflow.python.keras.optimizers.Adadelta object at 0x00000225538F6948>) but is being saved in TensorFlow format with `save_weights`. The model's weights will be saved, but unlike with TensorFlow optimizers in the TensorFlow format the optimizer's state will not be saved.\n",
      "\n",
      "Consider using a TensorFlow optimizer from `tf.train`.\n",
      "60000/60000 [==============================] - 24s 393us/sample - loss: 0.5852 - acc: 0.7825 - val_loss: 0.5678 - val_acc: 0.7832\n",
      "Epoch 3/20\n",
      "59900/60000 [============================>.] - ETA: 0s - loss: 0.5053 - acc: 0.8116\n",
      "Epoch 00003: saving model to training_1/cp.ckpt\n",
      "WARNING:tensorflow:This model was compiled with a Keras optimizer (<tensorflow.python.keras.optimizers.Adadelta object at 0x00000225538F6948>) but is being saved in TensorFlow format with `save_weights`. The model's weights will be saved, but unlike with TensorFlow optimizers in the TensorFlow format the optimizer's state will not be saved.\n",
      "\n",
      "Consider using a TensorFlow optimizer from `tf.train`.\n",
      "60000/60000 [==============================] - 25s 422us/sample - loss: 0.5053 - acc: 0.8115 - val_loss: 0.5096 - val_acc: 0.8107\n",
      "Epoch 4/20\n",
      "59800/60000 [============================>.] - ETA: 0s - loss: 0.4583 - acc: 0.8294\n",
      "Epoch 00004: saving model to training_1/cp.ckpt\n",
      "WARNING:tensorflow:This model was compiled with a Keras optimizer (<tensorflow.python.keras.optimizers.Adadelta object at 0x00000225538F6948>) but is being saved in TensorFlow format with `save_weights`. The model's weights will be saved, but unlike with TensorFlow optimizers in the TensorFlow format the optimizer's state will not be saved.\n",
      "\n",
      "Consider using a TensorFlow optimizer from `tf.train`.\n",
      "60000/60000 [==============================] - 25s 423us/sample - loss: 0.4584 - acc: 0.8294 - val_loss: 0.5044 - val_acc: 0.8195\n",
      "Epoch 5/20\n",
      "59900/60000 [============================>.] - ETA: 0s - loss: 0.4274 - acc: 0.8411\n",
      "Epoch 00005: saving model to training_1/cp.ckpt\n",
      "WARNING:tensorflow:This model was compiled with a Keras optimizer (<tensorflow.python.keras.optimizers.Adadelta object at 0x00000225538F6948>) but is being saved in TensorFlow format with `save_weights`. The model's weights will be saved, but unlike with TensorFlow optimizers in the TensorFlow format the optimizer's state will not be saved.\n",
      "\n",
      "Consider using a TensorFlow optimizer from `tf.train`.\n",
      "60000/60000 [==============================] - 25s 424us/sample - loss: 0.4279 - acc: 0.8409 - val_loss: 0.4649 - val_acc: 0.8289\n",
      "Epoch 6/20\n",
      "59900/60000 [============================>.] - ETA: 0s - loss: 0.4040 - acc: 0.8488\n",
      "Epoch 00006: saving model to training_1/cp.ckpt\n",
      "WARNING:tensorflow:This model was compiled with a Keras optimizer (<tensorflow.python.keras.optimizers.Adadelta object at 0x00000225538F6948>) but is being saved in TensorFlow format with `save_weights`. The model's weights will be saved, but unlike with TensorFlow optimizers in the TensorFlow format the optimizer's state will not be saved.\n",
      "\n",
      "Consider using a TensorFlow optimizer from `tf.train`.\n",
      "60000/60000 [==============================] - 26s 436us/sample - loss: 0.4042 - acc: 0.8489 - val_loss: 0.4599 - val_acc: 0.8333\n",
      "Epoch 7/20\n",
      "59800/60000 [============================>.] - ETA: 0s - loss: 0.3862 - acc: 0.8568\n",
      "Epoch 00007: saving model to training_1/cp.ckpt\n",
      "WARNING:tensorflow:This model was compiled with a Keras optimizer (<tensorflow.python.keras.optimizers.Adadelta object at 0x00000225538F6948>) but is being saved in TensorFlow format with `save_weights`. The model's weights will be saved, but unlike with TensorFlow optimizers in the TensorFlow format the optimizer's state will not be saved.\n",
      "\n",
      "Consider using a TensorFlow optimizer from `tf.train`.\n",
      "60000/60000 [==============================] - 28s 466us/sample - loss: 0.3861 - acc: 0.8568 - val_loss: 0.4316 - val_acc: 0.8422\n",
      "Epoch 8/20\n",
      "59900/60000 [============================>.] - ETA: 0s - loss: 0.3721 - acc: 0.8617\n",
      "Epoch 00008: saving model to training_1/cp.ckpt\n",
      "WARNING:tensorflow:This model was compiled with a Keras optimizer (<tensorflow.python.keras.optimizers.Adadelta object at 0x00000225538F6948>) but is being saved in TensorFlow format with `save_weights`. The model's weights will be saved, but unlike with TensorFlow optimizers in the TensorFlow format the optimizer's state will not be saved.\n",
      "\n",
      "Consider using a TensorFlow optimizer from `tf.train`.\n",
      "60000/60000 [==============================] - 28s 462us/sample - loss: 0.3720 - acc: 0.8617 - val_loss: 0.4179 - val_acc: 0.8474\n",
      "Epoch 9/20\n",
      "59800/60000 [============================>.] - ETA: 0s - loss: 0.3600 - acc: 0.8650\n",
      "Epoch 00009: saving model to training_1/cp.ckpt\n",
      "WARNING:tensorflow:This model was compiled with a Keras optimizer (<tensorflow.python.keras.optimizers.Adadelta object at 0x00000225538F6948>) but is being saved in TensorFlow format with `save_weights`. The model's weights will be saved, but unlike with TensorFlow optimizers in the TensorFlow format the optimizer's state will not be saved.\n",
      "\n",
      "Consider using a TensorFlow optimizer from `tf.train`.\n",
      "60000/60000 [==============================] - 26s 435us/sample - loss: 0.3600 - acc: 0.8649 - val_loss: 0.4218 - val_acc: 0.8416\n",
      "Epoch 10/20\n",
      "59900/60000 [============================>.] - ETA: 0s - loss: 0.3525 - acc: 0.8684\n",
      "Epoch 00010: saving model to training_1/cp.ckpt\n",
      "WARNING:tensorflow:This model was compiled with a Keras optimizer (<tensorflow.python.keras.optimizers.Adadelta object at 0x00000225538F6948>) but is being saved in TensorFlow format with `save_weights`. The model's weights will be saved, but unlike with TensorFlow optimizers in the TensorFlow format the optimizer's state will not be saved.\n",
      "\n",
      "Consider using a TensorFlow optimizer from `tf.train`.\n"
     ]
    },
    {
     "name": "stdout",
     "output_type": "stream",
     "text": [
      "60000/60000 [==============================] - 31s 510us/sample - loss: 0.3524 - acc: 0.8684 - val_loss: 0.4056 - val_acc: 0.8500\n",
      "Epoch 11/20\n",
      "59800/60000 [============================>.] - ETA: 0s - loss: 0.3457 - acc: 0.8711\n",
      "Epoch 00011: saving model to training_1/cp.ckpt\n",
      "WARNING:tensorflow:This model was compiled with a Keras optimizer (<tensorflow.python.keras.optimizers.Adadelta object at 0x00000225538F6948>) but is being saved in TensorFlow format with `save_weights`. The model's weights will be saved, but unlike with TensorFlow optimizers in the TensorFlow format the optimizer's state will not be saved.\n",
      "\n",
      "Consider using a TensorFlow optimizer from `tf.train`.\n",
      "60000/60000 [==============================] - 27s 442us/sample - loss: 0.3455 - acc: 0.8712 - val_loss: 0.4121 - val_acc: 0.8539\n",
      "Epoch 12/20\n",
      "59800/60000 [============================>.] - ETA: 0s - loss: 0.3382 - acc: 0.8732\n",
      "Epoch 00012: saving model to training_1/cp.ckpt\n",
      "WARNING:tensorflow:This model was compiled with a Keras optimizer (<tensorflow.python.keras.optimizers.Adadelta object at 0x00000225538F6948>) but is being saved in TensorFlow format with `save_weights`. The model's weights will be saved, but unlike with TensorFlow optimizers in the TensorFlow format the optimizer's state will not be saved.\n",
      "\n",
      "Consider using a TensorFlow optimizer from `tf.train`.\n",
      "60000/60000 [==============================] - 27s 455us/sample - loss: 0.3380 - acc: 0.8733 - val_loss: 0.4062 - val_acc: 0.8550\n",
      "Epoch 13/20\n",
      "59900/60000 [============================>.] - ETA: 0s - loss: 0.3306 - acc: 0.8763\n",
      "Epoch 00013: saving model to training_1/cp.ckpt\n",
      "WARNING:tensorflow:This model was compiled with a Keras optimizer (<tensorflow.python.keras.optimizers.Adadelta object at 0x00000225538F6948>) but is being saved in TensorFlow format with `save_weights`. The model's weights will be saved, but unlike with TensorFlow optimizers in the TensorFlow format the optimizer's state will not be saved.\n",
      "\n",
      "Consider using a TensorFlow optimizer from `tf.train`.\n",
      "60000/60000 [==============================] - 26s 430us/sample - loss: 0.3306 - acc: 0.8763 - val_loss: 0.4027 - val_acc: 0.8563\n",
      "Epoch 14/20\n",
      "59900/60000 [============================>.] - ETA: 0s - loss: 0.3255 - acc: 0.8783\n",
      "Epoch 00014: saving model to training_1/cp.ckpt\n",
      "WARNING:tensorflow:This model was compiled with a Keras optimizer (<tensorflow.python.keras.optimizers.Adadelta object at 0x00000225538F6948>) but is being saved in TensorFlow format with `save_weights`. The model's weights will be saved, but unlike with TensorFlow optimizers in the TensorFlow format the optimizer's state will not be saved.\n",
      "\n",
      "Consider using a TensorFlow optimizer from `tf.train`.\n",
      "60000/60000 [==============================] - 25s 422us/sample - loss: 0.3256 - acc: 0.8783 - val_loss: 0.4017 - val_acc: 0.8577\n",
      "Epoch 15/20\n",
      "59800/60000 [============================>.] - ETA: 0s - loss: 0.3194 - acc: 0.8803\n",
      "Epoch 00015: saving model to training_1/cp.ckpt\n",
      "WARNING:tensorflow:This model was compiled with a Keras optimizer (<tensorflow.python.keras.optimizers.Adadelta object at 0x00000225538F6948>) but is being saved in TensorFlow format with `save_weights`. The model's weights will be saved, but unlike with TensorFlow optimizers in the TensorFlow format the optimizer's state will not be saved.\n",
      "\n",
      "Consider using a TensorFlow optimizer from `tf.train`.\n",
      "60000/60000 [==============================] - 27s 442us/sample - loss: 0.3194 - acc: 0.8803 - val_loss: 0.3900 - val_acc: 0.8576\n",
      "Epoch 16/20\n",
      "59900/60000 [============================>.] - ETA: 0s - loss: 0.3143 - acc: 0.8808\n",
      "Epoch 00016: saving model to training_1/cp.ckpt\n",
      "WARNING:tensorflow:This model was compiled with a Keras optimizer (<tensorflow.python.keras.optimizers.Adadelta object at 0x00000225538F6948>) but is being saved in TensorFlow format with `save_weights`. The model's weights will be saved, but unlike with TensorFlow optimizers in the TensorFlow format the optimizer's state will not be saved.\n",
      "\n",
      "Consider using a TensorFlow optimizer from `tf.train`.\n",
      "60000/60000 [==============================] - 27s 448us/sample - loss: 0.3144 - acc: 0.8808 - val_loss: 0.3849 - val_acc: 0.8631\n",
      "Epoch 17/20\n",
      "59900/60000 [============================>.] - ETA: 0s - loss: 0.3093 - acc: 0.8844\n",
      "Epoch 00017: saving model to training_1/cp.ckpt\n",
      "WARNING:tensorflow:This model was compiled with a Keras optimizer (<tensorflow.python.keras.optimizers.Adadelta object at 0x00000225538F6948>) but is being saved in TensorFlow format with `save_weights`. The model's weights will be saved, but unlike with TensorFlow optimizers in the TensorFlow format the optimizer's state will not be saved.\n",
      "\n",
      "Consider using a TensorFlow optimizer from `tf.train`.\n",
      "60000/60000 [==============================] - 28s 468us/sample - loss: 0.3094 - acc: 0.8844 - val_loss: 0.4079 - val_acc: 0.8538\n",
      "Epoch 18/20\n",
      "59900/60000 [============================>.] - ETA: 0s - loss: 0.3054 - acc: 0.8852\n",
      "Epoch 00018: saving model to training_1/cp.ckpt\n",
      "WARNING:tensorflow:This model was compiled with a Keras optimizer (<tensorflow.python.keras.optimizers.Adadelta object at 0x00000225538F6948>) but is being saved in TensorFlow format with `save_weights`. The model's weights will be saved, but unlike with TensorFlow optimizers in the TensorFlow format the optimizer's state will not be saved.\n",
      "\n",
      "Consider using a TensorFlow optimizer from `tf.train`.\n",
      "60000/60000 [==============================] - 27s 452us/sample - loss: 0.3054 - acc: 0.8851 - val_loss: 0.3979 - val_acc: 0.8571\n",
      "Epoch 19/20\n",
      "59800/60000 [============================>.] - ETA: 0s - loss: 0.3017 - acc: 0.8851\n",
      "Epoch 00019: saving model to training_1/cp.ckpt\n",
      "WARNING:tensorflow:This model was compiled with a Keras optimizer (<tensorflow.python.keras.optimizers.Adadelta object at 0x00000225538F6948>) but is being saved in TensorFlow format with `save_weights`. The model's weights will be saved, but unlike with TensorFlow optimizers in the TensorFlow format the optimizer's state will not be saved.\n",
      "\n",
      "Consider using a TensorFlow optimizer from `tf.train`.\n",
      "60000/60000 [==============================] - 24s 393us/sample - loss: 0.3017 - acc: 0.8852 - val_loss: 0.3904 - val_acc: 0.8622\n",
      "Epoch 20/20\n",
      "59800/60000 [============================>.] - ETA: 0s - loss: 0.2978 - acc: 0.8872\n",
      "Epoch 00020: saving model to training_1/cp.ckpt\n",
      "WARNING:tensorflow:This model was compiled with a Keras optimizer (<tensorflow.python.keras.optimizers.Adadelta object at 0x00000225538F6948>) but is being saved in TensorFlow format with `save_weights`. The model's weights will be saved, but unlike with TensorFlow optimizers in the TensorFlow format the optimizer's state will not be saved.\n",
      "\n",
      "Consider using a TensorFlow optimizer from `tf.train`.\n",
      "60000/60000 [==============================] - 24s 395us/sample - loss: 0.2978 - acc: 0.8873 - val_loss: 0.3987 - val_acc: 0.8598\n",
      "Test loss: 0.39874093720912934\n",
      "Test accuracy: 0.8598\n",
      "10000/10000 - 2s - loss: 63.0963 - acc: 0.1022\n",
      "Untrained model, accuracy: 10.22%\n",
      "training_1/cp.ckpt\n",
      "10000/10000 - 2s - loss: 0.3987 - acc: 0.8598\n",
      "Restored model, accuracy: 85.98%\n"
     ]
    }
   ],
   "source": [
    "import tensorflow as tf\n",
    "from tensorflow import keras\n",
    "from tensorflow.python.keras.models import Sequential\n",
    "from tensorflow.python.keras.layers import Dense, Conv2D, MaxPooling2D, Flatten\n",
    "from tensorflow.python.keras.utils import to_categorical\n",
    "from tensorflow.python.keras.optimizers import Adadelta\n",
    "#load data\n",
    "fashion_mnist = keras.datasets.fashion_mnist\n",
    "(train_images, train_labels), (test_images, test_labels) = fashion_mnist.load_data()\n",
    "\n",
    "train_images, test_images = train_images.reshape(train_images.shape[0], 28, 28, 1), test_images.reshape(test_images.shape[0], 28, 28, 1)\n",
    "train_labels, test_labels = to_categorical(train_labels), to_categorical(test_labels)\n",
    "#create model\n",
    "def create_model():\n",
    "    model = Sequential()\n",
    "    #add model layers\n",
    "    model.add(Conv2D(3, kernel_size=5, strides = 1, activation='relu', input_shape=(28,28,1)))\n",
    "    model.add(MaxPooling2D(strides=(2, 2)))\n",
    "    model.add(Conv2D(3, kernel_size=3, strides = 1, padding='same', activation='relu'))\n",
    "    model.add(MaxPooling2D(strides=(2, 2)))\n",
    "    model.add(Flatten())\n",
    "    model.add(Dense(100, activation='relu'))\n",
    "    model.add(Dense(50, activation='relu'))\n",
    "    model.add(Dense(10, activation='softmax'))\n",
    "    model.compile(optimizer=Adadelta(),loss='categorical_crossentropy', metrics=['accuracy'])\n",
    "    return model\n",
    "model = create_model()\n",
    "model.summary()\n",
    "\n",
    "\n",
    "##saving checkpoints\n",
    "import os\n",
    "checkpoint_path = \"training_1/cp.ckpt\"\n",
    "checkpoint_dir = os.path.dirname(checkpoint_path)\n",
    "#\n",
    "## Create a callback that saves the model's weights\n",
    "cp_callback = tf.keras.callbacks.ModelCheckpoint(filepath=checkpoint_path,\n",
    "                                                 save_weights_only=True,\n",
    "                                                 verbose=1)\n",
    "history = model.fit(train_images, train_labels,batch_size = 100,epochs=20, validation_data=(test_images, test_labels),\n",
    "          callbacks=[cp_callback])\n",
    "score = model.evaluate(test_images,  test_labels, verbose=0)\n",
    "print('Test loss:', score[0]) \n",
    "print('Test accuracy:', score[1]) \n",
    "\n",
    "\n",
    "#Create a basic model instance\n",
    "model = create_model()\n",
    "\n",
    "# Evaluate the model\n",
    "loss, acc = model.evaluate(test_images,  test_labels, verbose=2)\n",
    "print(\"Untrained model, accuracy: {:5.2f}%\".format(100*acc))\n",
    "\n",
    "# Loads the weights\n",
    "model.load_weights(checkpoint_path)\n",
    "print(checkpoint_path)\n",
    "# Re-evaluate the model\n",
    "loss,acc = model.evaluate(test_images,  test_labels, verbose=2)\n",
    "print(\"Restored model, accuracy: {:5.2f}%\".format(100*acc))\n"
   ]
  },
  {
   "cell_type": "code",
   "execution_count": 12,
   "metadata": {},
   "outputs": [
    {
     "data": {
      "image/png": "[encoded data removed]",
      "text/plain": [
       "<Figure size 432x288 with 1 Axes>"
      ]
     },
     "metadata": {
      "needs_background": "light"
     },
     "output_type": "display_data"
    },
    {
     "data": {
      "image/png": "[encoded data removed]",
      "text/plain": [
       "<Figure size 432x288 with 1 Axes>"
      ]
     },
     "metadata": {
      "needs_background": "light"
     },
     "output_type": "display_data"
    }
   ],
   "source": [
    "import matplotlib.pyplot as plt\n",
    "\n",
    "\n",
    "# Plot training & validation accuracy values\n",
    "plt.plot(history.history['acc'])\n",
    "plt.plot(history.history['val_acc'])\n",
    "plt.title('Model accuracy')\n",
    "plt.ylabel('Accuracy')\n",
    "plt.xticks(range(0,20))\n",
    "plt.xlabel('Epoch')\n",
    "plt.legend(['Train', 'Test'], loc='upper left')\n",
    "plt.show()\n",
    "\n",
    "# Plot training & validation loss values\n",
    "plt.plot(history.history['loss'])\n",
    "plt.plot(history.history['val_loss'])\n",
    "plt.title('Model loss')\n",
    "plt.xticks(range(0,20))\n",
    "plt.ylabel('Loss')\n",
    "plt.xlabel('Epoch')\n",
    "plt.legend(['Train', 'Test'], loc='upper left')\n",
    "plt.show()"
   ]
  },
  {
   "cell_type": "code",
   "execution_count": null,
   "metadata": {},
   "outputs": [],
   "source": []
  }
 ],
 "metadata": {
  "kernelspec": {
   "display_name": "Python 3",
   "language": "python",
   "name": "python3"
  },
  "language_info": {
   "codemirror_mode": {
    "name": "ipython",
    "version": 3
   },
   "file_extension": ".py",
   "mimetype": "text/x-python",
   "name": "python",
   "nbconvert_exporter": "python",
   "pygments_lexer": "ipython3",
   "version": "3.7.4"
  }
 },
 "nbformat": 4,
 "nbformat_minor": 2
}
